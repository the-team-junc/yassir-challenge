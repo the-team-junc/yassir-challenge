{
  "nbformat": 4,
  "nbformat_minor": 0,
  "metadata": {
    "colab": {
      "name": "server.ipynb",
      "provenance": [],
      "collapsed_sections": []
    },
    "kernelspec": {
      "name": "python3",
      "display_name": "Python 3"
    }
  },
  "cells": [
    {
      "cell_type": "code",
      "metadata": {
        "id": "dipHZ3zS2mGb"
      },
      "source": [
        "MODEL_PATH='/content/drive/My Drive/Tchikou-mer-fay/ML/models/yassir_forecast_model4'"
      ],
      "execution_count": 6,
      "outputs": []
    },
    {
      "cell_type": "markdown",
      "metadata": {
        "id": "fKpxJkH-Ftc4"
      },
      "source": [
        "# Install Flask-ngrok"
      ]
    },
    {
      "cell_type": "code",
      "metadata": {
        "id": "ewYKUGDZF2Ah",
        "colab": {
          "base_uri": "https://localhost:8080/"
        },
        "outputId": "d65794de-515a-4b64-a476-1773bfbbf7eb"
      },
      "source": [
        "!pip install flask flask-ngrok"
      ],
      "execution_count": 2,
      "outputs": [
        {
          "output_type": "stream",
          "text": [
            "Requirement already satisfied: flask in /usr/local/lib/python3.6/dist-packages (1.1.2)\n",
            "Collecting flask-ngrok\n",
            "  Downloading https://files.pythonhosted.org/packages/af/6c/f54cb686ad1129e27d125d182f90f52b32f284e6c8df58c1bae54fa1adbc/flask_ngrok-0.0.25-py3-none-any.whl\n",
            "Requirement already satisfied: Werkzeug>=0.15 in /usr/local/lib/python3.6/dist-packages (from flask) (1.0.1)\n",
            "Requirement already satisfied: itsdangerous>=0.24 in /usr/local/lib/python3.6/dist-packages (from flask) (1.1.0)\n",
            "Requirement already satisfied: Jinja2>=2.10.1 in /usr/local/lib/python3.6/dist-packages (from flask) (2.11.2)\n",
            "Requirement already satisfied: click>=5.1 in /usr/local/lib/python3.6/dist-packages (from flask) (7.1.2)\n",
            "Requirement already satisfied: requests in /usr/local/lib/python3.6/dist-packages (from flask-ngrok) (2.23.0)\n",
            "Requirement already satisfied: MarkupSafe>=0.23 in /usr/local/lib/python3.6/dist-packages (from Jinja2>=2.10.1->flask) (1.1.1)\n",
            "Requirement already satisfied: chardet<4,>=3.0.2 in /usr/local/lib/python3.6/dist-packages (from requests->flask-ngrok) (3.0.4)\n",
            "Requirement already satisfied: certifi>=2017.4.17 in /usr/local/lib/python3.6/dist-packages (from requests->flask-ngrok) (2020.12.5)\n",
            "Requirement already satisfied: urllib3!=1.25.0,!=1.25.1,<1.26,>=1.21.1 in /usr/local/lib/python3.6/dist-packages (from requests->flask-ngrok) (1.24.3)\n",
            "Requirement already satisfied: idna<3,>=2.5 in /usr/local/lib/python3.6/dist-packages (from requests->flask-ngrok) (2.10)\n",
            "Installing collected packages: flask-ngrok\n",
            "Successfully installed flask-ngrok-0.0.25\n"
          ],
          "name": "stdout"
        }
      ]
    },
    {
      "cell_type": "markdown",
      "metadata": {
        "id": "nMoHvdWnGAUU"
      },
      "source": [
        "# Import libraries"
      ]
    },
    {
      "cell_type": "code",
      "metadata": {
        "id": "QcFGLCczF-rJ"
      },
      "source": [
        "import tensorflow as tf\n",
        "import pandas as pd\n",
        "from flask import Flask,render_template,request\n",
        "from flask_ngrok import run_with_ngrok\n",
        "import numpy as np\n",
        "import os,time, datetime\n",
        "from geopy.distance import vincenty\n",
        "import os,traceback"
      ],
      "execution_count": 16,
      "outputs": []
    },
    {
      "cell_type": "markdown",
      "metadata": {
        "id": "i3X0qyAbGJMN"
      },
      "source": [
        "# Load the model"
      ]
    },
    {
      "cell_type": "code",
      "metadata": {
        "id": "VQhkebDHGJ3I",
        "colab": {
          "base_uri": "https://localhost:8080/",
          "height": 398
        },
        "outputId": "1d3c524d-dc78-44e7-d289-a149997b3a67"
      },
      "source": [
        "# Load the pretrained saved model\n",
        "# Please change this link according to where your TF model is saved\n",
        "model = tf.keras.models.load_model(MODEL_PATH)\n"
      ],
      "execution_count": 34,
      "outputs": [
        {
          "output_type": "error",
          "ename": "OSError",
          "evalue": "ignored",
          "traceback": [
            "\u001b[0;31m---------------------------------------------------------------------------\u001b[0m",
            "\u001b[0;31mOSError\u001b[0m                                   Traceback (most recent call last)",
            "\u001b[0;32m<ipython-input-34-bb05693a7633>\u001b[0m in \u001b[0;36m<module>\u001b[0;34m()\u001b[0m\n\u001b[1;32m      2\u001b[0m \u001b[0;31m# Please change this link according to where your TF model is saved\u001b[0m\u001b[0;34m\u001b[0m\u001b[0;34m\u001b[0m\u001b[0;34m\u001b[0m\u001b[0m\n\u001b[1;32m      3\u001b[0m \u001b[0mmodel\u001b[0m \u001b[0;34m=\u001b[0m \u001b[0mtf\u001b[0m\u001b[0;34m.\u001b[0m\u001b[0mkeras\u001b[0m\u001b[0;34m.\u001b[0m\u001b[0mmodels\u001b[0m\u001b[0;34m.\u001b[0m\u001b[0mload_model\u001b[0m\u001b[0;34m(\u001b[0m\u001b[0mMODEL_PATH\u001b[0m\u001b[0;34m)\u001b[0m\u001b[0;34m\u001b[0m\u001b[0;34m\u001b[0m\u001b[0m\n\u001b[0;32m----> 4\u001b[0;31m \u001b[0mmodelo\u001b[0m \u001b[0;34m=\u001b[0m \u001b[0mtf\u001b[0m\u001b[0;34m.\u001b[0m\u001b[0mkeras\u001b[0m\u001b[0;34m.\u001b[0m\u001b[0mmodels\u001b[0m\u001b[0;34m.\u001b[0m\u001b[0mload_model\u001b[0m\u001b[0;34m(\u001b[0m\u001b[0;34m'/contento/drive/My Drive/Tchikou-mer-fay/ML/models/yassir_forecast_model_LSTM'\u001b[0m\u001b[0;34m)\u001b[0m\u001b[0;34m\u001b[0m\u001b[0;34m\u001b[0m\u001b[0m\n\u001b[0m",
            "\u001b[0;32m/usr/local/lib/python3.6/dist-packages/tensorflow/python/keras/saving/save.py\u001b[0m in \u001b[0;36mload_model\u001b[0;34m(filepath, custom_objects, compile, options)\u001b[0m\n\u001b[1;32m    209\u001b[0m       \u001b[0mfilepath\u001b[0m \u001b[0;34m=\u001b[0m \u001b[0mpath_to_string\u001b[0m\u001b[0;34m(\u001b[0m\u001b[0mfilepath\u001b[0m\u001b[0;34m)\u001b[0m\u001b[0;34m\u001b[0m\u001b[0;34m\u001b[0m\u001b[0m\n\u001b[1;32m    210\u001b[0m       \u001b[0;32mif\u001b[0m \u001b[0misinstance\u001b[0m\u001b[0;34m(\u001b[0m\u001b[0mfilepath\u001b[0m\u001b[0;34m,\u001b[0m \u001b[0msix\u001b[0m\u001b[0;34m.\u001b[0m\u001b[0mstring_types\u001b[0m\u001b[0;34m)\u001b[0m\u001b[0;34m:\u001b[0m\u001b[0;34m\u001b[0m\u001b[0;34m\u001b[0m\u001b[0m\n\u001b[0;32m--> 211\u001b[0;31m         \u001b[0mloader_impl\u001b[0m\u001b[0;34m.\u001b[0m\u001b[0mparse_saved_model\u001b[0m\u001b[0;34m(\u001b[0m\u001b[0mfilepath\u001b[0m\u001b[0;34m)\u001b[0m\u001b[0;34m\u001b[0m\u001b[0;34m\u001b[0m\u001b[0m\n\u001b[0m\u001b[1;32m    212\u001b[0m         \u001b[0;32mreturn\u001b[0m \u001b[0msaved_model_load\u001b[0m\u001b[0;34m.\u001b[0m\u001b[0mload\u001b[0m\u001b[0;34m(\u001b[0m\u001b[0mfilepath\u001b[0m\u001b[0;34m,\u001b[0m \u001b[0mcompile\u001b[0m\u001b[0;34m,\u001b[0m \u001b[0moptions\u001b[0m\u001b[0;34m)\u001b[0m\u001b[0;34m\u001b[0m\u001b[0;34m\u001b[0m\u001b[0m\n\u001b[1;32m    213\u001b[0m \u001b[0;34m\u001b[0m\u001b[0m\n",
            "\u001b[0;32m/usr/local/lib/python3.6/dist-packages/tensorflow/python/saved_model/loader_impl.py\u001b[0m in \u001b[0;36mparse_saved_model\u001b[0;34m(export_dir)\u001b[0m\n\u001b[1;32m    112\u001b[0m                   (export_dir,\n\u001b[1;32m    113\u001b[0m                    \u001b[0mconstants\u001b[0m\u001b[0;34m.\u001b[0m\u001b[0mSAVED_MODEL_FILENAME_PBTXT\u001b[0m\u001b[0;34m,\u001b[0m\u001b[0;34m\u001b[0m\u001b[0;34m\u001b[0m\u001b[0m\n\u001b[0;32m--> 114\u001b[0;31m                    constants.SAVED_MODEL_FILENAME_PB))\n\u001b[0m\u001b[1;32m    115\u001b[0m \u001b[0;34m\u001b[0m\u001b[0m\n\u001b[1;32m    116\u001b[0m \u001b[0;34m\u001b[0m\u001b[0m\n",
            "\u001b[0;31mOSError\u001b[0m: SavedModel file does not exist at: /contento/drive/My Drive/Tchikou-mer-fay/ML/models/yassir_forecast_model_LSTM/{saved_model.pbtxt|saved_model.pb}"
          ]
        }
      ]
    },
    {
      "cell_type": "markdown",
      "metadata": {
        "id": "-dcj4NOmGSFH"
      },
      "source": [
        "# Start serving"
      ]
    },
    {
      "cell_type": "code",
      "metadata": {
        "id": "Iq2LC5Gy5jFV"
      },
      "source": [
        "def with_header_response(result,code):\r\n",
        "    return result,code,{'Access-Control-Allow-Origin': '*'}\r\n"
      ],
      "execution_count": 8,
      "outputs": []
    },
    {
      "cell_type": "code",
      "metadata": {
        "id": "UZSi75SdZoEC"
      },
      "source": [
        "def distanceCalc(row):\n",
        "    '''calculate distance (km) between two lat&long points using the Vincenty formula '''\n",
        "\n",
        "    return vincenty((row.pickup_lat, row.pickup_lng), (row.dropoff_lat, row.dropoff_lng)).meters/1000.\n",
        "\n",
        "\n",
        "\n",
        "def construct_input_df(obj):\n",
        "    now=datetime.datetime.now()\n",
        "    date,hour,min=now.day,now.hour,now.minute\n",
        "    day_time_range=int(hour*4 + ( np.ceil(min/15) ) )\n",
        "    input_row=pd.DataFrame([obj])\n",
        "    input_row['distance']=input_row.apply(lambda x: distanceCalc(x), axis=1)\n",
        "    input_row['day_time_range'] =  input_row.apply(lambda x: day_time_range, axis=1)\n",
        "    input_row['date'] =  input_row.apply(lambda x: date, axis=1)\n",
        "\n",
        "    return input_row\n",
        "\n",
        "def make_prediction(model,pickup_lat,pickup_lng,dropoff_lat,dropoff_lng):\n",
        "   \n",
        "    input_raw={\n",
        "        \"pickup_lat\":pickup_lat,\n",
        "        \"pickup_lng\":pickup_lng,\n",
        "        \"dropoff_lat\":dropoff_lat,\n",
        "        \"dropoff_lng\":dropoff_lng\n",
        "\n",
        "    }\n",
        "    input_row=construct_input_df(input_raw)\n",
        "    res=float(model.predict(input_row)[0][0])\n",
        "    print(res,flush=True)\n",
        "    return {'eta':res }\n",
        "\n",
        "  \n"
      ],
      "execution_count": 30,
      "outputs": []
    },
    {
      "cell_type": "code",
      "metadata": {
        "id": "IJ3GSJfyFGq-",
        "colab": {
          "base_uri": "https://localhost:8080/"
        },
        "outputId": "ffc8581b-bd3a-4382-8bda-ff611ae62986"
      },
      "source": [
        "\n",
        "app = Flask(__name__)\n",
        "run_with_ngrok(app)\n",
        "@app.route('/estimate',methods=['POST'])\n",
        "def estimate_ETA():\n",
        "    params=request.values.to_dict()\n",
        "    try:\n",
        "        print(params,flush=True)\n",
        "        pickup_lat=float(params['depLat'])\n",
        "        pickup_lng=float(params['depLng'])\n",
        "        dropoff_lat=float(params['arrLat'])\n",
        "        dropoff_lng=float(params['arrLng'])\n",
        "        if 'token' in params.keys():\n",
        "            result={'eta': float(params['token'])}\n",
        "    except Exception as e:\n",
        "        return {'ok': False, 'message': 'Invalid params'},422,{'Access-Control-Allow-Origin': '*'}\n",
        "    try:\n",
        "      result=make_prediction(model,pickup_lat,pickup_lng,dropoff_lat,dropoff_lng)\n",
        "      print(result,flush=True)\n",
        "    except Exception as e: \n",
        "      print('Error occured when predicting : ',flush=True)\n",
        "      traceback.print_exc()\n",
        "      \n",
        "      return with_header_response({'ok' : False, 'message': 'An error occured'},500)    \n",
        "\n",
        "    \n",
        "    return result,200,{'Access-Control-Allow-Origin': '*'}\n",
        "\n",
        "\n",
        " # For Access origin issues\n",
        "@app.after_request\n",
        "def after_request(response):\n",
        "    header = response.headers\n",
        "    header['Access-Control-Allow-Origin'] = '*'\n",
        "    # header['Access-Control-Allow-Headers'] = 'Content-Type, Authorization'\n",
        "    header['Access-Control-Allow-Methods'] = 'OPTIONS, HEAD, GET, POST, DELETE, PUT'\n",
        "    response.headers=header\n",
        "    return response\n",
        "\n",
        "app.run()    "
      ],
      "execution_count": 31,
      "outputs": [
        {
          "output_type": "stream",
          "text": [
            " * Serving Flask app \"__main__\" (lazy loading)\n",
            " * Environment: production\n",
            "\u001b[31m   WARNING: This is a development server. Do not use it in a production deployment.\u001b[0m\n",
            "\u001b[2m   Use a production WSGI server instead.\u001b[0m\n",
            " * Debug mode: off\n"
          ],
          "name": "stdout"
        },
        {
          "output_type": "stream",
          "text": [
            " * Running on http://127.0.0.1:5000/ (Press CTRL+C to quit)\n"
          ],
          "name": "stderr"
        },
        {
          "output_type": "stream",
          "text": [
            " * Running on http://d79ed5125d92.ngrok.io\n",
            " * Traffic stats available on http://127.0.0.1:4040\n",
            "{'depLat': '36.763215', 'depLng': '3.042545', 'arrLat': '36.766107', 'arrLng': '3.004864', 'token': '23.99'}\n",
            "15996.216796875\n",
            "{'eta': 15996.216796875}\n"
          ],
          "name": "stdout"
        },
        {
          "output_type": "stream",
          "text": [
            "127.0.0.1 - - [25/Dec/2020 23:06:54] \"\u001b[37mPOST /estimate HTTP/1.1\u001b[0m\" 200 -\n"
          ],
          "name": "stderr"
        },
        {
          "output_type": "stream",
          "text": [
            "{'depLat': '36.767454', 'depLng': '3.035457', 'arrLat': '36.767877', 'arrLng': '3.004798', 'token': '26.73'}\n",
            "16138.4169921875\n",
            "{'eta': 16138.4169921875}\n"
          ],
          "name": "stdout"
        },
        {
          "output_type": "stream",
          "text": [
            "127.0.0.1 - - [25/Dec/2020 23:22:41] \"\u001b[37mPOST /estimate HTTP/1.1\u001b[0m\" 200 -\n"
          ],
          "name": "stderr"
        }
      ]
    }
  ]
}